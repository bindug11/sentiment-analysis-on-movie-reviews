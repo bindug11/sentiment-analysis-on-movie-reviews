{
 "cells": [
  {
   "cell_type": "code",
   "execution_count": 1,
   "metadata": {},
   "outputs": [
    {
     "name": "stderr",
     "output_type": "stream",
     "text": [
      "/Library/Frameworks/Python.framework/Versions/3.6/lib/python3.6/site-packages/sklearn/cross_validation.py:41: DeprecationWarning: This module was deprecated in version 0.18 in favor of the model_selection module into which all the refactored classes and functions are moved. Also note that the interface of the new CV iterators are different from that of this module. This module will be removed in 0.20.\n",
      "  \"This module will be removed in 0.20.\", DeprecationWarning)\n",
      "Using TensorFlow backend.\n"
     ]
    }
   ],
   "source": [
    "import os\n",
    "import numpy as np\n",
    "import re\n",
    "from sklearn.feature_extraction.text import CountVectorizer\n",
    "from sklearn.cross_validation import train_test_split\n",
    "from keras.utils import np_utils \n",
    "from keras import optimizers"
   ]
  },
  {
   "cell_type": "code",
   "execution_count": null,
   "metadata": {},
   "outputs": [],
   "source": [
    "'''https://towardsdatascience.com/sentiment-analysis-with-python-part-1-5ce197074184'''"
   ]
  },
  {
   "cell_type": "code",
   "execution_count": 2,
   "metadata": {},
   "outputs": [],
   "source": [
    "ftrainpath = os.getcwd()+'/movie_data/full_train.txt'\n",
    "ftestpath = os.getcwd()+'/movie_data/full_test.txt'\n",
    "train_text = []\n",
    "test_text = []\n",
    "fptrain = open(ftrainpath,'r')\n",
    "for line in fptrain:\n",
    "    train_text.append(line)\n",
    "    \n",
    "fptest = open(ftestpath,'r')\n",
    "for line in fptest:\n",
    "    test_text.append(line)"
   ]
  },
  {
   "cell_type": "code",
   "execution_count": 3,
   "metadata": {},
   "outputs": [
    {
     "data": {
      "text/plain": [
       "(\"I liked the film. Some of the action scenes were very interesting, tense and well done. I especially liked the opening scene which had a semi truck in it. A very tense action scene that seemed well done.<br /><br />Some of the transitional scenes were filmed in interesting ways such as time lapse photography, unusual colors, or interesting angles. Also the film is funny is several parts. I also liked how the evil guy was portrayed too. I'd give the film an 8 out of 10.\\n\",\n",
       " 25000,\n",
       " 'Actor turned director Bill Paxton follows up his promising debut, the Gothic-horror \"Frailty\", with this family friendly sports drama about the 1913 U.S. Open where a young American caddy rises from his humble background to play against his Bristish idol in what was dubbed as \"The Greatest Game Ever Played.\" I\\'m no fan of golf, and these scrappy underdog sports flicks are a dime a dozen (most recently done to grand effect with \"Miracle\" and \"Cinderella Man\"), but some how this film was enthralling all the same.<br /><br />The film starts with some creative opening credits (imagine a Disneyfied version of the animated opening credits of HBO\\'s \"Carnivale\" and \"Rome\"), but lumbers along slowly for its first by-the-numbers hour. Once the action moves to the U.S. Open things pick up very well. Paxton does a nice job and shows a knack for effective directorial flourishes (I loved the rain-soaked montage of the action on day two of the open) that propel the plot further or add some unexpected psychological depth to the proceedings. There\\'s some compelling character development when the British Harry Vardon is haunted by images of the aristocrats in black suits and top hats who destroyed his family cottage as a child to make way for a golf course. He also does a good job of visually depicting what goes on in the players\\' heads under pressure. Golf, a painfully boring sport, is brought vividly alive here. Credit should also be given the set designers and costume department for creating an engaging period-piece atmosphere of London and Boston at the beginning of the twentieth century.<br /><br />You know how this is going to end not only because it\\'s based on a true story but also because films in this genre follow the same template over and over, but Paxton puts on a better than average show and perhaps indicates more talent behind the camera than he ever had in front of it. Despite the formulaic nature, this is a nice and easy film to root for that deserves to find an audience.\\n',\n",
       " 25000)"
      ]
     },
     "execution_count": 3,
     "metadata": {},
     "output_type": "execute_result"
    }
   ],
   "source": [
    "train_text[11],len(train_text),test_text[1],len(test_text)"
   ]
  },
  {
   "cell_type": "code",
   "execution_count": 4,
   "metadata": {},
   "outputs": [],
   "source": [
    "Replace1 = re.compile('[\\<>!@#$%.;\\\":,|_+=`~()\\[\\]]')\n",
    "Replace2 = re.compile('(<br\\s*/><br\\s*/>)|(\\-)|(\\/)|(\\')')\n",
    "train_text = [Replace1.sub(\"\",line.lower()) for line in train_text]\n",
    "train_text = [Replace2.sub(\" \",line) for line in train_text]\n",
    "train_text = [re.sub(r'\\s+', ' ',line) for line in train_text] ## # Eliminate duplicate whitespaces"
   ]
  },
  {
   "cell_type": "code",
   "execution_count": 5,
   "metadata": {},
   "outputs": [
    {
     "data": {
      "text/plain": [
       "'fact stargate sg 1 is a cheesy sci fi tv seriesbr br there s no escaping facts how much you try to excuse yourself or explain it stargate sg 1 remains a cheesy sci fi tv seriesbr br stargate sg 1 does borrow and steal ideas briskly special fx aren t nearly as impressive as they could have been and the action isn t going to blow you out of the chair or couch for that matter eitherbr br but and this is where i really think stargate sg 1 deserves all the credit it can get for each and every episode or stolen idea i think you can count at least one cheesy sci fi movie that s actually worse than a one hour tv episodebr br in fact some episodes actually could probably have been 90 minutes long and still have been better than most moviesbr br and being able to keep that quality throughout the show and keep delivering and pushing the storyline further is what makes stargate sg 1 specialbr br i am very picky with my selections i follow perhaps one or two tv series at most and i hold pretty high standards which made me even more surprised when i found myself caughtbr br so for those who decide to brush of stargate sg 1 as yet another tacky sci fi show don t stick with it and you ll see what i m talking about '"
      ]
     },
     "execution_count": 5,
     "metadata": {},
     "output_type": "execute_result"
    }
   ],
   "source": [
    "train_text[110]"
   ]
  },
  {
   "cell_type": "code",
   "execution_count": 6,
   "metadata": {},
   "outputs": [],
   "source": [
    "cv = CountVectorizer(binary = True)\n",
    "X_train = cv.fit_transform(train_text)\n",
    "X_test = cv.transform(test_text)"
   ]
  },
  {
   "cell_type": "code",
   "execution_count": 7,
   "metadata": {},
   "outputs": [],
   "source": [
    "k = cv.get_feature_names()"
   ]
  },
  {
   "cell_type": "code",
   "execution_count": 8,
   "metadata": {},
   "outputs": [
    {
     "data": {
      "text/plain": [
       "(96954, 'shellshocked', (25000, 96954), (25000, 96954))"
      ]
     },
     "execution_count": 8,
     "metadata": {},
     "output_type": "execute_result"
    }
   ],
   "source": [
    "len(k),k[76949],X_train.shape,X_test.shape"
   ]
  },
  {
   "cell_type": "code",
   "execution_count": 9,
   "metadata": {},
   "outputs": [],
   "source": [
    "label = [1 if i<12500 else 0 for i in range(25000)]\n",
    "Y_test = label"
   ]
  },
  {
   "cell_type": "code",
   "execution_count": 10,
   "metadata": {},
   "outputs": [],
   "source": [
    "(X_train,X_valid,Y_train,Y_valid) = train_test_split(X_train,label,test_size=0.25)"
   ]
  },
  {
   "cell_type": "code",
   "execution_count": 11,
   "metadata": {},
   "outputs": [
    {
     "data": {
      "text/plain": [
       "((18750, 96954), (6250, 96954), 18750, 6250)"
      ]
     },
     "execution_count": 11,
     "metadata": {},
     "output_type": "execute_result"
    }
   ],
   "source": [
    "X_train.shape,X_valid.shape,len(Y_train),len(Y_valid)"
   ]
  },
  {
   "cell_type": "code",
   "execution_count": 12,
   "metadata": {},
   "outputs": [],
   "source": [
    "#Y_train = np.asarray(Y_train)"
   ]
  },
  {
   "cell_type": "code",
   "execution_count": 13,
   "metadata": {},
   "outputs": [],
   "source": [
    "# nb_classes = 2\n",
    "# Y_train = np_utils.to_categorical(Y_train, nb_classes) \n",
    "# Y_test = np_utils.to_categorical(Y_test, nb_classes)"
   ]
  },
  {
   "cell_type": "code",
   "execution_count": 14,
   "metadata": {},
   "outputs": [],
   "source": [
    "input_dim = 96954\n",
    "output_dim = 1"
   ]
  },
  {
   "cell_type": "code",
   "execution_count": 15,
   "metadata": {},
   "outputs": [],
   "source": [
    "from keras.models import Sequential\n",
    "from keras.layers import Dense,Activation"
   ]
  },
  {
   "cell_type": "code",
   "execution_count": 16,
   "metadata": {},
   "outputs": [],
   "source": [
    "model = Sequential()\n",
    "model.add(Dense(1,input_dim = 96954,activation = 'sigmoid'))"
   ]
  },
  {
   "cell_type": "code",
   "execution_count": 17,
   "metadata": {},
   "outputs": [
    {
     "name": "stdout",
     "output_type": "stream",
     "text": [
      "_________________________________________________________________\n",
      "Layer (type)                 Output Shape              Param #   \n",
      "=================================================================\n",
      "dense_1 (Dense)              (None, 1)                 96955     \n",
      "=================================================================\n",
      "Total params: 96,955\n",
      "Trainable params: 96,955\n",
      "Non-trainable params: 0\n",
      "_________________________________________________________________\n"
     ]
    }
   ],
   "source": [
    "model.summary()"
   ]
  },
  {
   "cell_type": "code",
   "execution_count": 18,
   "metadata": {},
   "outputs": [
    {
     "data": {
      "text/plain": [
       "96955"
      ]
     },
     "execution_count": 18,
     "metadata": {},
     "output_type": "execute_result"
    }
   ],
   "source": [
    "96954 * 1+ 1  ### number of paramerters"
   ]
  },
  {
   "cell_type": "code",
   "execution_count": 19,
   "metadata": {},
   "outputs": [],
   "source": [
    "#sgd = optimizers.SGD(lr=0.00000001, decay=1e-2, momentum=0.9)\n",
    "model.compile(optimizer = 'adam',loss='binary_crossentropy',metrics=['accuracy'])"
   ]
  },
  {
   "cell_type": "code",
   "execution_count": 20,
   "metadata": {},
   "outputs": [
    {
     "name": "stdout",
     "output_type": "stream",
     "text": [
      "Train on 18750 samples, validate on 6250 samples\n",
      "Epoch 1/10\n",
      "18750/18750 [==============================] - 11s 599us/step - loss: 0.4036 - acc: 0.8599 - val_loss: 0.3186 - val_acc: 0.8818\n",
      "Epoch 2/10\n",
      "18750/18750 [==============================] - 9s 501us/step - loss: 0.2235 - acc: 0.9317 - val_loss: 0.2835 - val_acc: 0.8886\n",
      "Epoch 3/10\n",
      "18750/18750 [==============================] - 9s 500us/step - loss: 0.1613 - acc: 0.9576 - val_loss: 0.2734 - val_acc: 0.8920\n",
      "Epoch 4/10\n",
      "18750/18750 [==============================] - 9s 499us/step - loss: 0.1234 - acc: 0.9710 - val_loss: 0.2742 - val_acc: 0.8922\n",
      "Epoch 5/10\n",
      "18750/18750 [==============================] - 9s 495us/step - loss: 0.0964 - acc: 0.9800 - val_loss: 0.2771 - val_acc: 0.8915\n",
      "Epoch 6/10\n",
      "18750/18750 [==============================] - 9s 500us/step - loss: 0.0767 - acc: 0.9856 - val_loss: 0.2803 - val_acc: 0.8904\n",
      "Epoch 7/10\n",
      "18750/18750 [==============================] - 9s 498us/step - loss: 0.0620 - acc: 0.9900 - val_loss: 0.2873 - val_acc: 0.8883\n",
      "Epoch 8/10\n",
      "18750/18750 [==============================] - 9s 493us/step - loss: 0.0502 - acc: 0.9931 - val_loss: 0.2946 - val_acc: 0.8870\n",
      "Epoch 9/10\n",
      "18750/18750 [==============================] - 9s 490us/step - loss: 0.0410 - acc: 0.9948 - val_loss: 0.3052 - val_acc: 0.8864\n",
      "Epoch 10/10\n",
      "18750/18750 [==============================] - 9s 493us/step - loss: 0.0338 - acc: 0.9967 - val_loss: 0.3147 - val_acc: 0.8835\n"
     ]
    },
    {
     "data": {
      "text/plain": [
       "<keras.callbacks.History at 0x12b5cdf60>"
      ]
     },
     "execution_count": 20,
     "metadata": {},
     "output_type": "execute_result"
    }
   ],
   "source": [
    "\n",
    "model.fit(x=X_train, y=Y_train, batch_size=10, epochs=10, verbose=1, callbacks=None, validation_data=(X_valid,Y_valid), shuffle=True)\n",
    "\n"
   ]
  },
  {
   "cell_type": "code",
   "execution_count": 30,
   "metadata": {},
   "outputs": [
    {
     "name": "stdout",
     "output_type": "stream",
     "text": [
      "I'm not really sure where to begin. From start to finish, bad, stinky bad, like stepping into a port-a-john on a 100 degree day. If you force yourself to watch this as I did, keep some Vicodin handy for the pain. I will never understand how flicks this bad make it past the cutting room without the entire reel ending up on the floor. The movie is a cross between Gumby rides Pokey, meets the terminator, meets Wally Beaver playing cowboys and Indians without the cowboys. I've seen better animation in the original cut of the Blob. You will get more entertainment from watching Gone with the Wind while suffering from the puke and poops. Bad acting and hokey lines will have you squirming and wishing you had rented Peewee's big Top or watched every episode of Gilligan's Island back to back. UGH..I'm going to go slit my wrist now.\n",
      "\n"
     ]
    },
    {
     "data": {
      "text/plain": [
       "(array([[0.17105938]], dtype=float32), 0)"
      ]
     },
     "execution_count": 30,
     "metadata": {},
     "output_type": "execute_result"
    }
   ],
   "source": [
    "num = 13000\n",
    "print(test_text[num])\n",
    "model.predict(X_test[num]),Y_test[num]"
   ]
  },
  {
   "cell_type": "code",
   "execution_count": 32,
   "metadata": {},
   "outputs": [
    {
     "name": "stdout",
     "output_type": "stream",
     "text": [
      "25000/25000 [==============================] - 7s 289us/step\n"
     ]
    },
    {
     "data": {
      "text/plain": [
       "[0.34209635426998136, 0.87024]"
      ]
     },
     "execution_count": 32,
     "metadata": {},
     "output_type": "execute_result"
    }
   ],
   "source": [
    "model.evaluate(X_test,Y_test)"
   ]
  },
  {
   "cell_type": "code",
   "execution_count": null,
   "metadata": {},
   "outputs": [],
   "source": []
  }
 ],
 "metadata": {
  "kernelspec": {
   "display_name": "Python 3",
   "language": "python",
   "name": "python3"
  },
  "language_info": {
   "codemirror_mode": {
    "name": "ipython",
    "version": 3
   },
   "file_extension": ".py",
   "mimetype": "text/x-python",
   "name": "python",
   "nbconvert_exporter": "python",
   "pygments_lexer": "ipython3",
   "version": "3.6.5"
  }
 },
 "nbformat": 4,
 "nbformat_minor": 2
}
